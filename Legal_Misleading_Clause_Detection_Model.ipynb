{
  "cells": [
    {
      "cell_type": "markdown",
      "source": [
        "# **AI - POWERED LEGAL MISLEADING CLAUSE DETECTION MODEL IN TERMS & CONDITIONS**"
      ],
      "metadata": {
        "id": "OicoJTeYtk-u"
      },
      "id": "OicoJTeYtk-u"
    },
    {
      "cell_type": "markdown",
      "source": [
        "## **Problem Statement**\n",
        "\n",
        "\n",
        "- Terms and Conditions (T&C) agreements are notoriously long, complicated, and full of dense legal jargon—making them difficult for the average user to understand. Within this complexity, companies may insert biased, unfair, or misleading clauses that limit consumer rights, shift liability, or disproportionately favor the service provider.\n",
        "\n",
        "- Users frequently accept these agreements without reading or fully comprehending them, leading to unintended consequences. Detecting such problematic clauses currently requires manual legal expertise, which is time-consuming, costly, and inaccessible to most users.\n",
        "\n",
        "- While existing resources are limited, the Contract Understanding Atticus Dataset (CUAD) curated by The Atticus Project offers a promising solution. CUAD comprises over 13,000 expert annotations across 510 commercial legal contracts, covering 41 types of key clauses commonly identified in corporate legal reviews—ranging from governing law and expiration dates to exclusivity and most-favored-nation provisions.\n",
        "\n",
        "- This project aims to build an AI-powered Legal Assistant that leverages NLP and machine learning models trained on CUAD to:\n",
        "\n",
        "    - Detect potentially biased, unfair, or misleading clauses in T&C documents.\n",
        "\n",
        "    - Highlight these clauses for review.\n",
        "\n",
        "- By building upon the rigorously annotated CUAD dataset, we capitalize on a high-quality benchmark designed explicitly for legal contract review, enabling more accurate detection and interpretation of critical clauses. This approach can significantly reduce the time, cost, and expertise needed—empowering individuals and small organizations with improved access to legal insight and protection."
      ],
      "metadata": {
        "id": "sDrdFlv0v9tN"
      },
      "id": "sDrdFlv0v9tN"
    },
    {
      "cell_type": "code",
      "source": [
        "import zipfile\n",
        "import os\n",
        "\n",
        "# Zip File\n",
        "zip_file = \"CUAD_v1.zip\"\n",
        "\n",
        "with zipfile.ZipFile(zip_file, 'r') as zip_ref:\n",
        "    zip_ref.extractall(\"CUAD_dataset\")  # folder to extract into"
      ],
      "metadata": {
        "id": "ZknHiTF5xCQu"
      },
      "id": "ZknHiTF5xCQu",
      "execution_count": null,
      "outputs": []
    },
    {
      "cell_type": "code",
      "source": [
        "# List all files and folders extracted\n",
        "import os\n",
        "os.listdir(\"CUAD_dataset\")"
      ],
      "metadata": {
        "colab": {
          "base_uri": "https://localhost:8080/"
        },
        "id": "ljWhbVYfxDh-",
        "outputId": "75ffd1da-a577-46c3-eaf2-f8ec7c5f669e"
      },
      "id": "ljWhbVYfxDh-",
      "execution_count": null,
      "outputs": [
        {
          "output_type": "execute_result",
          "data": {
            "text/plain": [
              "['CUAD_v1']"
            ]
          },
          "metadata": {},
          "execution_count": 2
        }
      ]
    },
    {
      "cell_type": "code",
      "source": [
        "!pip install faiss-cpu"
      ],
      "metadata": {
        "id": "PI_ti7MXw-1X",
        "colab": {
          "base_uri": "https://localhost:8080/"
        },
        "outputId": "bd23cf3b-7f32-4d3e-e58f-16a21408eba3"
      },
      "id": "PI_ti7MXw-1X",
      "execution_count": null,
      "outputs": [
        {
          "output_type": "stream",
          "name": "stdout",
          "text": [
            "Collecting faiss-cpu\n",
            "  Downloading faiss_cpu-1.12.0-cp312-cp312-manylinux_2_27_x86_64.manylinux_2_28_x86_64.whl.metadata (5.1 kB)\n",
            "Requirement already satisfied: numpy<3.0,>=1.25.0 in /usr/local/lib/python3.12/dist-packages (from faiss-cpu) (2.0.2)\n",
            "Requirement already satisfied: packaging in /usr/local/lib/python3.12/dist-packages (from faiss-cpu) (25.0)\n",
            "Downloading faiss_cpu-1.12.0-cp312-cp312-manylinux_2_27_x86_64.manylinux_2_28_x86_64.whl (31.4 MB)\n",
            "\u001b[2K   \u001b[90m━━━━━━━━━━━━━━━━━━━━━━━━━━━━━━━━━━━━━━━━\u001b[0m \u001b[32m31.4/31.4 MB\u001b[0m \u001b[31m17.5 MB/s\u001b[0m eta \u001b[36m0:00:00\u001b[0m\n",
            "\u001b[?25hInstalling collected packages: faiss-cpu\n",
            "Successfully installed faiss-cpu-1.12.0\n"
          ]
        }
      ]
    },
    {
      "cell_type": "code",
      "source": [
        "! pip install pypdf"
      ],
      "metadata": {
        "colab": {
          "base_uri": "https://localhost:8080/"
        },
        "id": "CbhIychLxutO",
        "outputId": "cbeadd8a-94d4-4dc8-afb7-1f518868186b"
      },
      "id": "CbhIychLxutO",
      "execution_count": null,
      "outputs": [
        {
          "output_type": "stream",
          "name": "stdout",
          "text": [
            "Collecting pypdf\n",
            "  Downloading pypdf-6.0.0-py3-none-any.whl.metadata (7.1 kB)\n",
            "Downloading pypdf-6.0.0-py3-none-any.whl (310 kB)\n",
            "\u001b[?25l   \u001b[90m━━━━━━━━━━━━━━━━━━━━━━━━━━━━━━━━━━━━━━━━\u001b[0m \u001b[32m0.0/310.5 kB\u001b[0m \u001b[31m?\u001b[0m eta \u001b[36m-:--:--\u001b[0m\r\u001b[2K   \u001b[90m━━━━━━━━━━━━━━━━━━━━━━━━━━━━━━━━━━━━━━━━\u001b[0m \u001b[32m310.5/310.5 kB\u001b[0m \u001b[31m15.2 MB/s\u001b[0m eta \u001b[36m0:00:00\u001b[0m\n",
            "\u001b[?25hInstalling collected packages: pypdf\n",
            "Successfully installed pypdf-6.0.0\n"
          ]
        }
      ]
    },
    {
      "cell_type": "code",
      "source": [
        "import os\n",
        "import pandas as pd\n",
        "import torch\n",
        "import faiss\n",
        "from transformers import AutoTokenizer, AutoModel, pipeline\n",
        "from sentence_transformers import SentenceTransformer\n",
        "from pypdf import PdfReader"
      ],
      "metadata": {
        "id": "8WuHG-oh8HJT"
      },
      "id": "8WuHG-oh8HJT",
      "execution_count": null,
      "outputs": []
    },
    {
      "cell_type": "markdown",
      "source": [
        "## **Load CSV**"
      ],
      "metadata": {
        "id": "0S5lFH6Cqkoc"
      },
      "id": "0S5lFH6Cqkoc"
    },
    {
      "cell_type": "code",
      "source": [
        "# ---------------- STEP 1: Paths ----------------\n",
        "CSV_PATH = \"/content/CUAD_dataset/CUAD_v1/master_clauses.csv\"\n",
        "EMB_MODEL_NAME = \"sentence-transformers/all-MiniLM-L6-v2\""
      ],
      "metadata": {
        "id": "mS62Le_88InK"
      },
      "id": "mS62Le_88InK",
      "execution_count": null,
      "outputs": []
    },
    {
      "cell_type": "code",
      "source": [
        "# ---------------- STEP 2: Load Dataset ----------------\n",
        "# Load master clauses from CSV\n",
        "df = pd.read_csv(CSV_PATH)\n",
        "# 4. Show first rows & column names\n",
        "df.columns"
      ],
      "metadata": {
        "colab": {
          "base_uri": "https://localhost:8080/"
        },
        "id": "fi0P6DKV8KJi",
        "outputId": "644b648c-657b-49c0-a979-4450c2fec9b9"
      },
      "id": "fi0P6DKV8KJi",
      "execution_count": null,
      "outputs": [
        {
          "output_type": "execute_result",
          "data": {
            "text/plain": [
              "Index(['Filename', 'Document Name', 'Document Name-Answer', 'Parties',\n",
              "       'Parties-Answer', 'Agreement Date', 'Agreement Date-Answer',\n",
              "       'Effective Date', 'Effective Date-Answer', 'Expiration Date',\n",
              "       'Expiration Date-Answer', 'Renewal Term', 'Renewal Term-Answer',\n",
              "       'Notice Period To Terminate Renewal',\n",
              "       'Notice Period To Terminate Renewal- Answer', 'Governing Law',\n",
              "       'Governing Law-Answer', 'Most Favored Nation',\n",
              "       'Most Favored Nation-Answer', 'Competitive Restriction Exception',\n",
              "       'Competitive Restriction Exception-Answer', 'Non-Compete',\n",
              "       'Non-Compete-Answer', 'Exclusivity', 'Exclusivity-Answer',\n",
              "       'No-Solicit Of Customers', 'No-Solicit Of Customers-Answer',\n",
              "       'No-Solicit Of Employees', 'No-Solicit Of Employees-Answer',\n",
              "       'Non-Disparagement', 'Non-Disparagement-Answer',\n",
              "       'Termination For Convenience', 'Termination For Convenience-Answer',\n",
              "       'Rofr/Rofo/Rofn', 'Rofr/Rofo/Rofn-Answer', 'Change Of Control',\n",
              "       'Change Of Control-Answer', 'Anti-Assignment', 'Anti-Assignment-Answer',\n",
              "       'Revenue/Profit Sharing', 'Revenue/Profit Sharing-Answer',\n",
              "       'Price Restrictions', 'Price Restrictions-Answer', 'Minimum Commitment',\n",
              "       'Minimum Commitment-Answer', 'Volume Restriction',\n",
              "       'Volume Restriction-Answer', 'Ip Ownership Assignment',\n",
              "       'Ip Ownership Assignment-Answer', 'Joint Ip Ownership',\n",
              "       'Joint Ip Ownership-Answer', 'License Grant', 'License Grant-Answer',\n",
              "       'Non-Transferable License', 'Non-Transferable License-Answer',\n",
              "       'Affiliate License-Licensor', 'Affiliate License-Licensor-Answer',\n",
              "       'Affiliate License-Licensee', 'Affiliate License-Licensee-Answer',\n",
              "       'Unlimited/All-You-Can-Eat-License',\n",
              "       'Unlimited/All-You-Can-Eat-License-Answer',\n",
              "       'Irrevocable Or Perpetual License',\n",
              "       'Irrevocable Or Perpetual License-Answer', 'Source Code Escrow',\n",
              "       'Source Code Escrow-Answer', 'Post-Termination Services',\n",
              "       'Post-Termination Services-Answer', 'Audit Rights',\n",
              "       'Audit Rights-Answer', 'Uncapped Liability',\n",
              "       'Uncapped Liability-Answer', 'Cap On Liability',\n",
              "       'Cap On Liability-Answer', 'Liquidated Damages',\n",
              "       'Liquidated Damages-Answer', 'Warranty Duration',\n",
              "       'Warranty Duration-Answer', 'Insurance', 'Insurance-Answer',\n",
              "       'Covenant Not To Sue', 'Covenant Not To Sue-Answer',\n",
              "       'Third Party Beneficiary', 'Third Party Beneficiary-Answer'],\n",
              "      dtype='object')"
            ]
          },
          "metadata": {},
          "execution_count": 3
        }
      ]
    },
    {
      "cell_type": "code",
      "source": [
        "df.head()"
      ],
      "metadata": {
        "colab": {
          "base_uri": "https://localhost:8080/",
          "height": 620
        },
        "id": "J3K-hT0Q9PWa",
        "outputId": "6aac8d88-007c-438e-f4e8-709045a7822f"
      },
      "id": "J3K-hT0Q9PWa",
      "execution_count": null,
      "outputs": [
        {
          "output_type": "execute_result",
          "data": {
            "text/plain": [
              "                                            Filename  \\\n",
              "0  CybergyHoldingsInc_20140520_10-Q_EX-10.27_8605...   \n",
              "1  EuromediaHoldingsCorp_20070215_10SB12G_EX-10.B...   \n",
              "2  FulucaiProductionsLtd_20131223_10-Q_EX-10.9_83...   \n",
              "3  GopageCorp_20140221_10-K_EX-10.1_8432966_EX-10...   \n",
              "4  IdeanomicsInc_20160330_10-K_EX-10.26_9512211_E...   \n",
              "\n",
              "                                    Document Name  \\\n",
              "0               ['MARKETING AFFILIATE AGREEMENT']   \n",
              "1   ['VIDEO-ON-DEMAND CONTENT LICENSE AGREEMENT']   \n",
              "2  ['CONTENT DISTRIBUTION AND LICENSE AGREEMENT']   \n",
              "3           ['WEBSITE CONTENT LICENSE AGREEMENT']   \n",
              "4                   ['CONTENT LICENSE AGREEMENT']   \n",
              "\n",
              "                         Document Name-Answer  \\\n",
              "0               MARKETING AFFILIATE AGREEMENT   \n",
              "1   VIDEO-ON-DEMAND CONTENT LICENSE AGREEMENT   \n",
              "2  CONTENT DISTRIBUTION AND LICENSE AGREEMENT   \n",
              "3           WEBSITE CONTENT LICENSE AGREEMENT   \n",
              "4                   CONTENT LICENSE AGREEMENT   \n",
              "\n",
              "                                             Parties  \\\n",
              "0  ['BIRCH FIRST GLOBAL INVESTMENTS INC.', 'MA', ...   \n",
              "1  ['EuroMedia Holdings Corp.', 'Rogers', 'Rogers...   \n",
              "2  ['Producer', 'Fulucai Productions Ltd.', 'Conv...   \n",
              "3  ['PSiTech Corporation', 'Licensor', 'Licensee'...   \n",
              "4  ['YOU ON DEMAND HOLDINGS, INC.', 'Licensor', '...   \n",
              "\n",
              "                                      Parties-Answer  \\\n",
              "0  Birch First Global Investments Inc. (\"Company\"...   \n",
              "1  Rogers Cable Communications Inc. (\"Rogers\"); E...   \n",
              "2  CONVERGTV, INC. (“ConvergTV”); Fulucai Product...   \n",
              "3  PSiTech Corporation (\"Licensor\"); Empirical Ve...   \n",
              "4  Beijing Sun Seven Stars Culture Development Li...   \n",
              "\n",
              "                           Agreement Date Agreement Date-Answer  \\\n",
              "0  ['8th day of May 2014', 'May 8, 2014']                5/8/14   \n",
              "1                      ['July 11 , 2006']               7/11/06   \n",
              "2                   ['November 15, 2012']              11/15/12   \n",
              "3                        ['Feb 10, 2014']               2/10/14   \n",
              "4                   ['December 21, 2015']              12/21/15   \n",
              "\n",
              "                                      Effective Date Effective Date-Answer  \\\n",
              "0  ['This agreement shall begin upon the date of ...                   NaN   \n",
              "1                                 ['July 11 , 2006']               7/11/06   \n",
              "2                              ['November 15, 2012']              11/15/12   \n",
              "3                                   ['Feb 10, 2014']               2/10/14   \n",
              "4                              ['December 21, 2015']              12/21/15   \n",
              "\n",
              "                                     Expiration Date  ... Liquidated Damages  \\\n",
              "0  ['This agreement shall begin upon the date of ...  ...                 []   \n",
              "1  ['The term of this Agreement (the \"Initial Ter...  ...                 []   \n",
              "2                                                 []  ...                 []   \n",
              "3  ['The initial term of this Agreement commences...  ...                 []   \n",
              "4  ['The Term of this Agreement (the \"Term\") shal...  ...                 []   \n",
              "\n",
              "  Liquidated Damages-Answer  \\\n",
              "0                        No   \n",
              "1                        No   \n",
              "2                        No   \n",
              "3                        No   \n",
              "4                        No   \n",
              "\n",
              "                                   Warranty Duration Warranty Duration-Answer  \\\n",
              "0  [\"COMPANY'S SOLE AND EXCLUSIVE LIABILITY FOR T...                      Yes   \n",
              "1                                                 []                       No   \n",
              "2                                                 []                       No   \n",
              "3                                                 []                       No   \n",
              "4                                                 []                       No   \n",
              "\n",
              "  Insurance Insurance-Answer Covenant Not To Sue Covenant Not To Sue-Answer  \\\n",
              "0        []               No                  []                         No   \n",
              "1        []               No                  []                         No   \n",
              "2        []               No                  []                         No   \n",
              "3        []               No                  []                         No   \n",
              "4        []               No                  []                         No   \n",
              "\n",
              "  Third Party Beneficiary Third Party Beneficiary-Answer  \n",
              "0                      []                             No  \n",
              "1                      []                             No  \n",
              "2                      []                             No  \n",
              "3                      []                             No  \n",
              "4                      []                             No  \n",
              "\n",
              "[5 rows x 83 columns]"
            ],
            "text/html": [
              "\n",
              "  <div id=\"df-6af144c6-308d-4c5d-b371-60096ef1ceed\" class=\"colab-df-container\">\n",
              "    <div>\n",
              "<style scoped>\n",
              "    .dataframe tbody tr th:only-of-type {\n",
              "        vertical-align: middle;\n",
              "    }\n",
              "\n",
              "    .dataframe tbody tr th {\n",
              "        vertical-align: top;\n",
              "    }\n",
              "\n",
              "    .dataframe thead th {\n",
              "        text-align: right;\n",
              "    }\n",
              "</style>\n",
              "<table border=\"1\" class=\"dataframe\">\n",
              "  <thead>\n",
              "    <tr style=\"text-align: right;\">\n",
              "      <th></th>\n",
              "      <th>Filename</th>\n",
              "      <th>Document Name</th>\n",
              "      <th>Document Name-Answer</th>\n",
              "      <th>Parties</th>\n",
              "      <th>Parties-Answer</th>\n",
              "      <th>Agreement Date</th>\n",
              "      <th>Agreement Date-Answer</th>\n",
              "      <th>Effective Date</th>\n",
              "      <th>Effective Date-Answer</th>\n",
              "      <th>Expiration Date</th>\n",
              "      <th>...</th>\n",
              "      <th>Liquidated Damages</th>\n",
              "      <th>Liquidated Damages-Answer</th>\n",
              "      <th>Warranty Duration</th>\n",
              "      <th>Warranty Duration-Answer</th>\n",
              "      <th>Insurance</th>\n",
              "      <th>Insurance-Answer</th>\n",
              "      <th>Covenant Not To Sue</th>\n",
              "      <th>Covenant Not To Sue-Answer</th>\n",
              "      <th>Third Party Beneficiary</th>\n",
              "      <th>Third Party Beneficiary-Answer</th>\n",
              "    </tr>\n",
              "  </thead>\n",
              "  <tbody>\n",
              "    <tr>\n",
              "      <th>0</th>\n",
              "      <td>CybergyHoldingsInc_20140520_10-Q_EX-10.27_8605...</td>\n",
              "      <td>['MARKETING AFFILIATE AGREEMENT']</td>\n",
              "      <td>MARKETING AFFILIATE AGREEMENT</td>\n",
              "      <td>['BIRCH FIRST GLOBAL INVESTMENTS INC.', 'MA', ...</td>\n",
              "      <td>Birch First Global Investments Inc. (\"Company\"...</td>\n",
              "      <td>['8th day of May 2014', 'May 8, 2014']</td>\n",
              "      <td>5/8/14</td>\n",
              "      <td>['This agreement shall begin upon the date of ...</td>\n",
              "      <td>NaN</td>\n",
              "      <td>['This agreement shall begin upon the date of ...</td>\n",
              "      <td>...</td>\n",
              "      <td>[]</td>\n",
              "      <td>No</td>\n",
              "      <td>[\"COMPANY'S SOLE AND EXCLUSIVE LIABILITY FOR T...</td>\n",
              "      <td>Yes</td>\n",
              "      <td>[]</td>\n",
              "      <td>No</td>\n",
              "      <td>[]</td>\n",
              "      <td>No</td>\n",
              "      <td>[]</td>\n",
              "      <td>No</td>\n",
              "    </tr>\n",
              "    <tr>\n",
              "      <th>1</th>\n",
              "      <td>EuromediaHoldingsCorp_20070215_10SB12G_EX-10.B...</td>\n",
              "      <td>['VIDEO-ON-DEMAND CONTENT LICENSE AGREEMENT']</td>\n",
              "      <td>VIDEO-ON-DEMAND CONTENT LICENSE AGREEMENT</td>\n",
              "      <td>['EuroMedia Holdings Corp.', 'Rogers', 'Rogers...</td>\n",
              "      <td>Rogers Cable Communications Inc. (\"Rogers\"); E...</td>\n",
              "      <td>['July 11 , 2006']</td>\n",
              "      <td>7/11/06</td>\n",
              "      <td>['July 11 , 2006']</td>\n",
              "      <td>7/11/06</td>\n",
              "      <td>['The term of this Agreement (the \"Initial Ter...</td>\n",
              "      <td>...</td>\n",
              "      <td>[]</td>\n",
              "      <td>No</td>\n",
              "      <td>[]</td>\n",
              "      <td>No</td>\n",
              "      <td>[]</td>\n",
              "      <td>No</td>\n",
              "      <td>[]</td>\n",
              "      <td>No</td>\n",
              "      <td>[]</td>\n",
              "      <td>No</td>\n",
              "    </tr>\n",
              "    <tr>\n",
              "      <th>2</th>\n",
              "      <td>FulucaiProductionsLtd_20131223_10-Q_EX-10.9_83...</td>\n",
              "      <td>['CONTENT DISTRIBUTION AND LICENSE AGREEMENT']</td>\n",
              "      <td>CONTENT DISTRIBUTION AND LICENSE AGREEMENT</td>\n",
              "      <td>['Producer', 'Fulucai Productions Ltd.', 'Conv...</td>\n",
              "      <td>CONVERGTV, INC. (“ConvergTV”); Fulucai Product...</td>\n",
              "      <td>['November 15, 2012']</td>\n",
              "      <td>11/15/12</td>\n",
              "      <td>['November 15, 2012']</td>\n",
              "      <td>11/15/12</td>\n",
              "      <td>[]</td>\n",
              "      <td>...</td>\n",
              "      <td>[]</td>\n",
              "      <td>No</td>\n",
              "      <td>[]</td>\n",
              "      <td>No</td>\n",
              "      <td>[]</td>\n",
              "      <td>No</td>\n",
              "      <td>[]</td>\n",
              "      <td>No</td>\n",
              "      <td>[]</td>\n",
              "      <td>No</td>\n",
              "    </tr>\n",
              "    <tr>\n",
              "      <th>3</th>\n",
              "      <td>GopageCorp_20140221_10-K_EX-10.1_8432966_EX-10...</td>\n",
              "      <td>['WEBSITE CONTENT LICENSE AGREEMENT']</td>\n",
              "      <td>WEBSITE CONTENT LICENSE AGREEMENT</td>\n",
              "      <td>['PSiTech Corporation', 'Licensor', 'Licensee'...</td>\n",
              "      <td>PSiTech Corporation (\"Licensor\"); Empirical Ve...</td>\n",
              "      <td>['Feb 10, 2014']</td>\n",
              "      <td>2/10/14</td>\n",
              "      <td>['Feb 10, 2014']</td>\n",
              "      <td>2/10/14</td>\n",
              "      <td>['The initial term of this Agreement commences...</td>\n",
              "      <td>...</td>\n",
              "      <td>[]</td>\n",
              "      <td>No</td>\n",
              "      <td>[]</td>\n",
              "      <td>No</td>\n",
              "      <td>[]</td>\n",
              "      <td>No</td>\n",
              "      <td>[]</td>\n",
              "      <td>No</td>\n",
              "      <td>[]</td>\n",
              "      <td>No</td>\n",
              "    </tr>\n",
              "    <tr>\n",
              "      <th>4</th>\n",
              "      <td>IdeanomicsInc_20160330_10-K_EX-10.26_9512211_E...</td>\n",
              "      <td>['CONTENT LICENSE AGREEMENT']</td>\n",
              "      <td>CONTENT LICENSE AGREEMENT</td>\n",
              "      <td>['YOU ON DEMAND HOLDINGS, INC.', 'Licensor', '...</td>\n",
              "      <td>Beijing Sun Seven Stars Culture Development Li...</td>\n",
              "      <td>['December 21, 2015']</td>\n",
              "      <td>12/21/15</td>\n",
              "      <td>['December 21, 2015']</td>\n",
              "      <td>12/21/15</td>\n",
              "      <td>['The Term of this Agreement (the \"Term\") shal...</td>\n",
              "      <td>...</td>\n",
              "      <td>[]</td>\n",
              "      <td>No</td>\n",
              "      <td>[]</td>\n",
              "      <td>No</td>\n",
              "      <td>[]</td>\n",
              "      <td>No</td>\n",
              "      <td>[]</td>\n",
              "      <td>No</td>\n",
              "      <td>[]</td>\n",
              "      <td>No</td>\n",
              "    </tr>\n",
              "  </tbody>\n",
              "</table>\n",
              "<p>5 rows × 83 columns</p>\n",
              "</div>\n",
              "    <div class=\"colab-df-buttons\">\n",
              "\n",
              "  <div class=\"colab-df-container\">\n",
              "    <button class=\"colab-df-convert\" onclick=\"convertToInteractive('df-6af144c6-308d-4c5d-b371-60096ef1ceed')\"\n",
              "            title=\"Convert this dataframe to an interactive table.\"\n",
              "            style=\"display:none;\">\n",
              "\n",
              "  <svg xmlns=\"http://www.w3.org/2000/svg\" height=\"24px\" viewBox=\"0 -960 960 960\">\n",
              "    <path d=\"M120-120v-720h720v720H120Zm60-500h600v-160H180v160Zm220 220h160v-160H400v160Zm0 220h160v-160H400v160ZM180-400h160v-160H180v160Zm440 0h160v-160H620v160ZM180-180h160v-160H180v160Zm440 0h160v-160H620v160Z\"/>\n",
              "  </svg>\n",
              "    </button>\n",
              "\n",
              "  <style>\n",
              "    .colab-df-container {\n",
              "      display:flex;\n",
              "      gap: 12px;\n",
              "    }\n",
              "\n",
              "    .colab-df-convert {\n",
              "      background-color: #E8F0FE;\n",
              "      border: none;\n",
              "      border-radius: 50%;\n",
              "      cursor: pointer;\n",
              "      display: none;\n",
              "      fill: #1967D2;\n",
              "      height: 32px;\n",
              "      padding: 0 0 0 0;\n",
              "      width: 32px;\n",
              "    }\n",
              "\n",
              "    .colab-df-convert:hover {\n",
              "      background-color: #E2EBFA;\n",
              "      box-shadow: 0px 1px 2px rgba(60, 64, 67, 0.3), 0px 1px 3px 1px rgba(60, 64, 67, 0.15);\n",
              "      fill: #174EA6;\n",
              "    }\n",
              "\n",
              "    .colab-df-buttons div {\n",
              "      margin-bottom: 4px;\n",
              "    }\n",
              "\n",
              "    [theme=dark] .colab-df-convert {\n",
              "      background-color: #3B4455;\n",
              "      fill: #D2E3FC;\n",
              "    }\n",
              "\n",
              "    [theme=dark] .colab-df-convert:hover {\n",
              "      background-color: #434B5C;\n",
              "      box-shadow: 0px 1px 3px 1px rgba(0, 0, 0, 0.15);\n",
              "      filter: drop-shadow(0px 1px 2px rgba(0, 0, 0, 0.3));\n",
              "      fill: #FFFFFF;\n",
              "    }\n",
              "  </style>\n",
              "\n",
              "    <script>\n",
              "      const buttonEl =\n",
              "        document.querySelector('#df-6af144c6-308d-4c5d-b371-60096ef1ceed button.colab-df-convert');\n",
              "      buttonEl.style.display =\n",
              "        google.colab.kernel.accessAllowed ? 'block' : 'none';\n",
              "\n",
              "      async function convertToInteractive(key) {\n",
              "        const element = document.querySelector('#df-6af144c6-308d-4c5d-b371-60096ef1ceed');\n",
              "        const dataTable =\n",
              "          await google.colab.kernel.invokeFunction('convertToInteractive',\n",
              "                                                    [key], {});\n",
              "        if (!dataTable) return;\n",
              "\n",
              "        const docLinkHtml = 'Like what you see? Visit the ' +\n",
              "          '<a target=\"_blank\" href=https://colab.research.google.com/notebooks/data_table.ipynb>data table notebook</a>'\n",
              "          + ' to learn more about interactive tables.';\n",
              "        element.innerHTML = '';\n",
              "        dataTable['output_type'] = 'display_data';\n",
              "        await google.colab.output.renderOutput(dataTable, element);\n",
              "        const docLink = document.createElement('div');\n",
              "        docLink.innerHTML = docLinkHtml;\n",
              "        element.appendChild(docLink);\n",
              "      }\n",
              "    </script>\n",
              "  </div>\n",
              "\n",
              "\n",
              "    <div id=\"df-ec793c71-1d3d-4968-8901-ce4a7dc68017\">\n",
              "      <button class=\"colab-df-quickchart\" onclick=\"quickchart('df-ec793c71-1d3d-4968-8901-ce4a7dc68017')\"\n",
              "                title=\"Suggest charts\"\n",
              "                style=\"display:none;\">\n",
              "\n",
              "<svg xmlns=\"http://www.w3.org/2000/svg\" height=\"24px\"viewBox=\"0 0 24 24\"\n",
              "     width=\"24px\">\n",
              "    <g>\n",
              "        <path d=\"M19 3H5c-1.1 0-2 .9-2 2v14c0 1.1.9 2 2 2h14c1.1 0 2-.9 2-2V5c0-1.1-.9-2-2-2zM9 17H7v-7h2v7zm4 0h-2V7h2v10zm4 0h-2v-4h2v4z\"/>\n",
              "    </g>\n",
              "</svg>\n",
              "      </button>\n",
              "\n",
              "<style>\n",
              "  .colab-df-quickchart {\n",
              "      --bg-color: #E8F0FE;\n",
              "      --fill-color: #1967D2;\n",
              "      --hover-bg-color: #E2EBFA;\n",
              "      --hover-fill-color: #174EA6;\n",
              "      --disabled-fill-color: #AAA;\n",
              "      --disabled-bg-color: #DDD;\n",
              "  }\n",
              "\n",
              "  [theme=dark] .colab-df-quickchart {\n",
              "      --bg-color: #3B4455;\n",
              "      --fill-color: #D2E3FC;\n",
              "      --hover-bg-color: #434B5C;\n",
              "      --hover-fill-color: #FFFFFF;\n",
              "      --disabled-bg-color: #3B4455;\n",
              "      --disabled-fill-color: #666;\n",
              "  }\n",
              "\n",
              "  .colab-df-quickchart {\n",
              "    background-color: var(--bg-color);\n",
              "    border: none;\n",
              "    border-radius: 50%;\n",
              "    cursor: pointer;\n",
              "    display: none;\n",
              "    fill: var(--fill-color);\n",
              "    height: 32px;\n",
              "    padding: 0;\n",
              "    width: 32px;\n",
              "  }\n",
              "\n",
              "  .colab-df-quickchart:hover {\n",
              "    background-color: var(--hover-bg-color);\n",
              "    box-shadow: 0 1px 2px rgba(60, 64, 67, 0.3), 0 1px 3px 1px rgba(60, 64, 67, 0.15);\n",
              "    fill: var(--button-hover-fill-color);\n",
              "  }\n",
              "\n",
              "  .colab-df-quickchart-complete:disabled,\n",
              "  .colab-df-quickchart-complete:disabled:hover {\n",
              "    background-color: var(--disabled-bg-color);\n",
              "    fill: var(--disabled-fill-color);\n",
              "    box-shadow: none;\n",
              "  }\n",
              "\n",
              "  .colab-df-spinner {\n",
              "    border: 2px solid var(--fill-color);\n",
              "    border-color: transparent;\n",
              "    border-bottom-color: var(--fill-color);\n",
              "    animation:\n",
              "      spin 1s steps(1) infinite;\n",
              "  }\n",
              "\n",
              "  @keyframes spin {\n",
              "    0% {\n",
              "      border-color: transparent;\n",
              "      border-bottom-color: var(--fill-color);\n",
              "      border-left-color: var(--fill-color);\n",
              "    }\n",
              "    20% {\n",
              "      border-color: transparent;\n",
              "      border-left-color: var(--fill-color);\n",
              "      border-top-color: var(--fill-color);\n",
              "    }\n",
              "    30% {\n",
              "      border-color: transparent;\n",
              "      border-left-color: var(--fill-color);\n",
              "      border-top-color: var(--fill-color);\n",
              "      border-right-color: var(--fill-color);\n",
              "    }\n",
              "    40% {\n",
              "      border-color: transparent;\n",
              "      border-right-color: var(--fill-color);\n",
              "      border-top-color: var(--fill-color);\n",
              "    }\n",
              "    60% {\n",
              "      border-color: transparent;\n",
              "      border-right-color: var(--fill-color);\n",
              "    }\n",
              "    80% {\n",
              "      border-color: transparent;\n",
              "      border-right-color: var(--fill-color);\n",
              "      border-bottom-color: var(--fill-color);\n",
              "    }\n",
              "    90% {\n",
              "      border-color: transparent;\n",
              "      border-bottom-color: var(--fill-color);\n",
              "    }\n",
              "  }\n",
              "</style>\n",
              "\n",
              "      <script>\n",
              "        async function quickchart(key) {\n",
              "          const quickchartButtonEl =\n",
              "            document.querySelector('#' + key + ' button');\n",
              "          quickchartButtonEl.disabled = true;  // To prevent multiple clicks.\n",
              "          quickchartButtonEl.classList.add('colab-df-spinner');\n",
              "          try {\n",
              "            const charts = await google.colab.kernel.invokeFunction(\n",
              "                'suggestCharts', [key], {});\n",
              "          } catch (error) {\n",
              "            console.error('Error during call to suggestCharts:', error);\n",
              "          }\n",
              "          quickchartButtonEl.classList.remove('colab-df-spinner');\n",
              "          quickchartButtonEl.classList.add('colab-df-quickchart-complete');\n",
              "        }\n",
              "        (() => {\n",
              "          let quickchartButtonEl =\n",
              "            document.querySelector('#df-ec793c71-1d3d-4968-8901-ce4a7dc68017 button');\n",
              "          quickchartButtonEl.style.display =\n",
              "            google.colab.kernel.accessAllowed ? 'block' : 'none';\n",
              "        })();\n",
              "      </script>\n",
              "    </div>\n",
              "\n",
              "    </div>\n",
              "  </div>\n"
            ],
            "application/vnd.google.colaboratory.intrinsic+json": {
              "type": "dataframe",
              "variable_name": "df"
            }
          },
          "metadata": {},
          "execution_count": 4
        }
      ]
    },
    {
      "cell_type": "code",
      "source": [
        "# Identify clause text columns (exclude ones ending in \"-Answer\")\n",
        "clause_columns = [col for col in df.columns if not col.endswith(\"-Answer\") and col not in [\"Filename\", \"Document Name\"]]\n",
        "\n",
        "# Melt into long format: one clause per row\n",
        "melted_df = df.melt(value_vars=clause_columns, var_name=\"label\", value_name=\"clause_text\")\n",
        "\n",
        "# Drop NaN or empty clauses\n",
        "melted_df = melted_df.dropna(subset=[\"clause_text\"])\n",
        "melted_df = melted_df[melted_df[\"clause_text\"].str.strip() != \"\"]\n",
        "\n",
        "print(melted_df.head())\n",
        "print(f\"Total clauses: {len(melted_df)}\")\n"
      ],
      "metadata": {
        "colab": {
          "base_uri": "https://localhost:8080/"
        },
        "id": "xmKuVw9D9pMT",
        "outputId": "26f5caef-1936-4980-a47f-816275839262"
      },
      "id": "xmKuVw9D9pMT",
      "execution_count": null,
      "outputs": [
        {
          "output_type": "stream",
          "name": "stdout",
          "text": [
            "     label                                        clause_text\n",
            "0  Parties  ['BIRCH FIRST GLOBAL INVESTMENTS INC.', 'MA', ...\n",
            "1  Parties  ['EuroMedia Holdings Corp.', 'Rogers', 'Rogers...\n",
            "2  Parties  ['Producer', 'Fulucai Productions Ltd.', 'Conv...\n",
            "3  Parties  ['PSiTech Corporation', 'Licensor', 'Licensee'...\n",
            "4  Parties  ['YOU ON DEMAND HOLDINGS, INC.', 'Licensor', '...\n",
            "Total clauses: 20501\n"
          ]
        }
      ]
    },
    {
      "cell_type": "markdown",
      "source": [
        "## **Text Extraction**"
      ],
      "metadata": {
        "id": "VdzAIWdjrAKk"
      },
      "id": "VdzAIWdjrAKk"
    },
    {
      "cell_type": "code",
      "source": [
        "pdf_folder = \"/content/CUAD_dataset/CUAD_v1/full_contract_pdf\"\n",
        "txt_folder = \"/content/CUAD_dataset/CUAD_v1/full_contract_txt\"\n",
        "def extract_text_from_pdf(pdf_path):\n",
        "    text = \"\"\n",
        "    with open(pdf_path, \"rb\") as file:\n",
        "        reader = PyPDF2.PdfReader(file)\n",
        "        for page in reader.pages:\n",
        "            text += page.extract_text() + \"\\n\"\n",
        "    return text\n",
        "\n",
        "# Collect PDF texts\n",
        "pdf_data = []\n",
        "for filename in os.listdir(pdf_folder):\n",
        "    if filename.lower().endswith(\".pdf\"):\n",
        "        full_path = os.path.join(pdf_folder, filename)\n",
        "        text = extract_text_from_pdf(full_path)\n",
        "        pdf_data.append({\"label\": \"Unknown\", \"clause_text\": text})\n",
        "\n",
        "# Collect TXT texts\n",
        "txt_data = []\n",
        "for filename in os.listdir(txt_folder):\n",
        "    if filename.lower().endswith(\".txt\"):\n",
        "        full_path = os.path.join(txt_folder, filename)\n",
        "        with open(full_path, \"r\", encoding=\"utf-8\", errors=\"ignore\") as f:\n",
        "            text = f.read()\n",
        "        txt_data.append({\"label\": \"Unknown\", \"clause_text\": text})\n",
        "\n",
        "# Combine with CSV clauses\n",
        "pdf_df = pd.DataFrame(pdf_data)\n",
        "txt_df = pd.DataFrame(txt_data)\n",
        "full_df = pd.concat([melted_df, pdf_df, txt_df], ignore_index=True)\n",
        "\n",
        "print(full_df.head())\n",
        "print(f\"Total records: {len(full_df)}\")\n"
      ],
      "metadata": {
        "colab": {
          "base_uri": "https://localhost:8080/"
        },
        "id": "NxNIZReo8Nrr",
        "outputId": "c0bf646f-97b9-417c-9fe5-b05147858e34"
      },
      "id": "NxNIZReo8Nrr",
      "execution_count": null,
      "outputs": [
        {
          "output_type": "stream",
          "name": "stdout",
          "text": [
            "     label                                        clause_text\n",
            "0  Parties  ['BIRCH FIRST GLOBAL INVESTMENTS INC.', 'MA', ...\n",
            "1  Parties  ['EuroMedia Holdings Corp.', 'Rogers', 'Rogers...\n",
            "2  Parties  ['Producer', 'Fulucai Productions Ltd.', 'Conv...\n",
            "3  Parties  ['PSiTech Corporation', 'Licensor', 'Licensee'...\n",
            "4  Parties  ['YOU ON DEMAND HOLDINGS, INC.', 'Licensor', '...\n",
            "Total records: 21009\n"
          ]
        }
      ]
    },
    {
      "cell_type": "markdown",
      "source": [
        "## **Chunking**"
      ],
      "metadata": {
        "id": "RdFPuxiArLaM"
      },
      "id": "RdFPuxiArLaM"
    },
    {
      "cell_type": "code",
      "source": [
        "from langchain.text_splitter import RecursiveCharacterTextSplitter\n",
        "\n",
        "# Create a text splitter (better for legal clauses)\n",
        "text_splitter = RecursiveCharacterTextSplitter(\n",
        "    chunk_size=500,  # adjust based on legal clause length\n",
        "    chunk_overlap=100,  # keep context overlap\n",
        "    length_function=len\n",
        ")\n",
        "\n",
        "chunks = []\n",
        "for _, row in full_df.iterrows():\n",
        "    for chunk in text_splitter.split_text(row[\"clause_text\"]):\n",
        "        chunks.append({\"label\": row[\"label\"], \"text\": chunk})\n",
        "\n",
        "chunks_df = pd.DataFrame(chunks)\n",
        "print(f\"Total chunks created: {len(chunks_df)}\")\n",
        "print(chunks_df.head())"
      ],
      "metadata": {
        "colab": {
          "base_uri": "https://localhost:8080/"
        },
        "id": "MdrDLSjC_ws7",
        "outputId": "5a199685-046e-44f1-fe4f-ccceb740532b"
      },
      "id": "MdrDLSjC_ws7",
      "execution_count": null,
      "outputs": [
        {
          "output_type": "stream",
          "name": "stdout",
          "text": [
            "Total chunks created: 103247\n",
            "     label                                               text\n",
            "0  Parties  ['BIRCH FIRST GLOBAL INVESTMENTS INC.', 'MA', ...\n",
            "1  Parties  ['EuroMedia Holdings Corp.', 'Rogers', 'Rogers...\n",
            "2  Parties  ['Producer', 'Fulucai Productions Ltd.', 'Conv...\n",
            "3  Parties  ['PSiTech Corporation', 'Licensor', 'Licensee'...\n",
            "4  Parties  ['YOU ON DEMAND HOLDINGS, INC.', 'Licensor', '...\n"
          ]
        }
      ]
    },
    {
      "cell_type": "markdown",
      "source": [
        "## **Embedding**"
      ],
      "metadata": {
        "id": "pZjB4YZ-rQt0"
      },
      "id": "pZjB4YZ-rQt0"
    },
    {
      "cell_type": "code",
      "source": [
        "# ---------- Embedding ----------\n",
        "from sentence_transformers import SentenceTransformer\n",
        "import numpy as np\n",
        "import faiss\n",
        "\n",
        "# Load embedding model (no API key needed)\n",
        "embed_model = SentenceTransformer(\"all-MiniLM-L6-v2\")\n",
        "\n",
        "# Encode all chunks\n",
        "embeddings = embed_model.encode(chunks_df[\"text\"].tolist(), convert_to_numpy=True)"
      ],
      "metadata": {
        "colab": {
          "base_uri": "https://localhost:8080/"
        },
        "id": "13DbDrkw_1Cr",
        "outputId": "3a878f3d-3ae2-4ad8-acea-a21c5ce7ee07"
      },
      "id": "13DbDrkw_1Cr",
      "execution_count": null,
      "outputs": [
        {
          "output_type": "stream",
          "name": "stderr",
          "text": [
            "/usr/local/lib/python3.12/dist-packages/huggingface_hub/utils/_auth.py:94: UserWarning: \n",
            "The secret `HF_TOKEN` does not exist in your Colab secrets.\n",
            "To authenticate with the Hugging Face Hub, create a token in your settings tab (https://huggingface.co/settings/tokens), set it as secret in your Google Colab and restart your session.\n",
            "You will be able to reuse this secret in all of your notebooks.\n",
            "Please note that authentication is recommended but still optional to access public models or datasets.\n",
            "  warnings.warn(\n"
          ]
        }
      ]
    },
    {
      "cell_type": "markdown",
      "source": [
        "## **FAISS Vector Store**"
      ],
      "metadata": {
        "id": "zmjtXUuMrXU1"
      },
      "id": "zmjtXUuMrXU1"
    },
    {
      "cell_type": "code",
      "source": [
        "# ---------- FAISS Vector Store ----------\n",
        "dimension = embeddings.shape[1]\n",
        "index = faiss.IndexFlatL2(dimension)\n",
        "index.add(embeddings)\n",
        "\n",
        "print(f\"FAISS index size: {index.ntotal}\")"
      ],
      "metadata": {
        "colab": {
          "base_uri": "https://localhost:8080/"
        },
        "id": "uMEzPo2v_6_M",
        "outputId": "59f2440d-97ee-4101-82ac-c85a4979760f"
      },
      "id": "uMEzPo2v_6_M",
      "execution_count": null,
      "outputs": [
        {
          "output_type": "stream",
          "name": "stdout",
          "text": [
            "FAISS index size: 103247\n"
          ]
        }
      ]
    },
    {
      "cell_type": "markdown",
      "source": [
        "## **Defining Function For Retrieval Similar Chunks**"
      ],
      "metadata": {
        "id": "sRok55rfrhMF"
      },
      "id": "sRok55rfrhMF"
    },
    {
      "cell_type": "code",
      "source": [
        "# ---------- Retrieval Function ----------\n",
        "def retrieve_similar_chunks(query, top_k=5):\n",
        "    query_emb = embed_model.encode([query], convert_to_numpy=True)\n",
        "    distances, indices = index.search(query_emb, top_k)\n",
        "    results = []\n",
        "    for i, idx in enumerate(indices[0]):\n",
        "        results.append({\n",
        "            \"score\": float(distances[0][i]),\n",
        "            \"text\": chunks_df.iloc[idx][\"text\"],\n",
        "            \"label\": chunks_df.iloc[idx][\"label\"]\n",
        "        })\n",
        "    return results"
      ],
      "metadata": {
        "id": "gRuNII7TAAzS"
      },
      "id": "gRuNII7TAAzS",
      "execution_count": null,
      "outputs": []
    },
    {
      "cell_type": "markdown",
      "source": [
        "### **Example**"
      ],
      "metadata": {
        "id": "TTfMkp3lr8gF"
      },
      "id": "TTfMkp3lr8gF"
    },
    {
      "cell_type": "code",
      "source": [
        "# ---------- Example Retrieval ----------\n",
        "query = \"termination clause without prior notice\"\n",
        "retrieved = retrieve_similar_chunks(query)\n",
        "\n",
        "print(\"\\nTop Matching Chunks:\")\n",
        "for r in retrieved:\n",
        "    print(f\"[{r['label']}] {r['text'][:200]}...\\nScore: {r['score']}\\n\")"
      ],
      "metadata": {
        "colab": {
          "base_uri": "https://localhost:8080/"
        },
        "id": "M9oYVCyHAHHb",
        "outputId": "59ae1fbe-e0e7-4211-acdc-9a2d35074171"
      },
      "id": "M9oYVCyHAHHb",
      "execution_count": null,
      "outputs": [
        {
          "output_type": "stream",
          "name": "stdout",
          "text": [
            "\n",
            "Top Matching Chunks:\n",
            "[Unknown] notice thereof to the other, terminate this Agreement as of a date specified in such notice of termination, which...\n",
            "Score: 0.5261452794075012\n",
            "\n",
            "[Unknown] 12.3 Other Early Termination.\n",
            "\n",
            "12.3.1 Either Party shall have the right to terminate this Agreement before the end of the Term for its convenience upon [***] written notice to the other Party (and any...\n",
            "Score: 0.5616702437400818\n",
            "\n",
            "[Unknown] is otherwise entitled to receive hereunder in the period from the date of such termination notice until the [ * ]....\n",
            "Score: 0.6304959058761597\n",
            "\n",
            "[Unknown] 16. TERMINATION\n",
            "\n",
            "16.1 Termination events: without prejudice to any other rights under this Agreement and/or at Law, either Party shall be entitled to terminate all or part of this Agreement by Notice ...\n",
            "Score: 0.637556791305542\n",
            "\n",
            "[Termination For Convenience] [\"Either party hereto may terminate this Agreement after the Initial Period upon at least six (6) months' prior written notice to the other party thereof.\", \"The Company may terminate this Agreement i...\n",
            "Score: 0.64250648021698\n",
            "\n"
          ]
        }
      ]
    },
    {
      "cell_type": "markdown",
      "source": [
        "## **Prepare Data For Generative Training**"
      ],
      "metadata": {
        "id": "60XfVDYLsBZ0"
      },
      "id": "60XfVDYLsBZ0"
    },
    {
      "cell_type": "code",
      "source": [
        "# Prepare data for generative training\n",
        "train_data = []\n",
        "for _, row in chunks_df.iterrows():\n",
        "    if row[\"label\"] != \"Unknown\":  # only labeled data for supervised learning\n",
        "        prompt = f\"Explain why the following clause might be misleading:\\n\\n{row['text']}\"\n",
        "        response = f\"This clause is categorized as '{row['label']}' and may be misleading because ...\"\n",
        "        train_data.append({\"prompt\": prompt, \"response\": response})\n",
        "\n",
        "train_df = pd.DataFrame(train_data)\n",
        "print(train_df.head())\n"
      ],
      "metadata": {
        "colab": {
          "base_uri": "https://localhost:8080/"
        },
        "id": "A_KBeg-GCYE7",
        "outputId": "3062e95d-afa8-4414-f014-997663171626"
      },
      "id": "A_KBeg-GCYE7",
      "execution_count": null,
      "outputs": [
        {
          "output_type": "stream",
          "name": "stdout",
          "text": [
            "                                              prompt  \\\n",
            "0  Explain why the following clause might be misl...   \n",
            "1  Explain why the following clause might be misl...   \n",
            "2  Explain why the following clause might be misl...   \n",
            "3  Explain why the following clause might be misl...   \n",
            "4  Explain why the following clause might be misl...   \n",
            "\n",
            "                                            response  \n",
            "0  This clause is categorized as 'Parties' and ma...  \n",
            "1  This clause is categorized as 'Parties' and ma...  \n",
            "2  This clause is categorized as 'Parties' and ma...  \n",
            "3  This clause is categorized as 'Parties' and ma...  \n",
            "4  This clause is categorized as 'Parties' and ma...  \n"
          ]
        }
      ]
    },
    {
      "cell_type": "markdown",
      "source": [
        "## **Training With a Generative AI Model**"
      ],
      "metadata": {
        "id": "eALi1ZzKsMt9"
      },
      "id": "eALi1ZzKsMt9"
    },
    {
      "cell_type": "code",
      "source": [
        "!pip install transformers datasets accelerate"
      ],
      "metadata": {
        "id": "evSrqMooDMmk",
        "colab": {
          "base_uri": "https://localhost:8080/"
        },
        "outputId": "06cb9aa7-5081-496a-8e08-f5c47c89f4f3"
      },
      "id": "evSrqMooDMmk",
      "execution_count": null,
      "outputs": [
        {
          "output_type": "stream",
          "name": "stdout",
          "text": [
            "Requirement already satisfied: transformers in /usr/local/lib/python3.12/dist-packages (4.55.2)\n",
            "Requirement already satisfied: datasets in /usr/local/lib/python3.12/dist-packages (4.0.0)\n",
            "Requirement already satisfied: accelerate in /usr/local/lib/python3.12/dist-packages (1.10.0)\n",
            "Requirement already satisfied: filelock in /usr/local/lib/python3.12/dist-packages (from transformers) (3.19.1)\n",
            "Requirement already satisfied: huggingface-hub<1.0,>=0.34.0 in /usr/local/lib/python3.12/dist-packages (from transformers) (0.34.4)\n",
            "Requirement already satisfied: numpy>=1.17 in /usr/local/lib/python3.12/dist-packages (from transformers) (2.0.2)\n",
            "Requirement already satisfied: packaging>=20.0 in /usr/local/lib/python3.12/dist-packages (from transformers) (25.0)\n",
            "Requirement already satisfied: pyyaml>=5.1 in /usr/local/lib/python3.12/dist-packages (from transformers) (6.0.2)\n",
            "Requirement already satisfied: regex!=2019.12.17 in /usr/local/lib/python3.12/dist-packages (from transformers) (2024.11.6)\n",
            "Requirement already satisfied: requests in /usr/local/lib/python3.12/dist-packages (from transformers) (2.32.3)\n",
            "Requirement already satisfied: tokenizers<0.22,>=0.21 in /usr/local/lib/python3.12/dist-packages (from transformers) (0.21.4)\n",
            "Requirement already satisfied: safetensors>=0.4.3 in /usr/local/lib/python3.12/dist-packages (from transformers) (0.6.2)\n",
            "Requirement already satisfied: tqdm>=4.27 in /usr/local/lib/python3.12/dist-packages (from transformers) (4.67.1)\n",
            "Requirement already satisfied: pyarrow>=15.0.0 in /usr/local/lib/python3.12/dist-packages (from datasets) (18.1.0)\n",
            "Requirement already satisfied: dill<0.3.9,>=0.3.0 in /usr/local/lib/python3.12/dist-packages (from datasets) (0.3.8)\n",
            "Requirement already satisfied: pandas in /usr/local/lib/python3.12/dist-packages (from datasets) (2.2.2)\n",
            "Requirement already satisfied: xxhash in /usr/local/lib/python3.12/dist-packages (from datasets) (3.5.0)\n",
            "Requirement already satisfied: multiprocess<0.70.17 in /usr/local/lib/python3.12/dist-packages (from datasets) (0.70.16)\n",
            "Requirement already satisfied: fsspec<=2025.3.0,>=2023.1.0 in /usr/local/lib/python3.12/dist-packages (from fsspec[http]<=2025.3.0,>=2023.1.0->datasets) (2025.3.0)\n",
            "Requirement already satisfied: psutil in /usr/local/lib/python3.12/dist-packages (from accelerate) (5.9.5)\n",
            "Requirement already satisfied: torch>=2.0.0 in /usr/local/lib/python3.12/dist-packages (from accelerate) (2.8.0+cu126)\n",
            "Requirement already satisfied: aiohttp!=4.0.0a0,!=4.0.0a1 in /usr/local/lib/python3.12/dist-packages (from fsspec[http]<=2025.3.0,>=2023.1.0->datasets) (3.12.15)\n",
            "Requirement already satisfied: typing-extensions>=3.7.4.3 in /usr/local/lib/python3.12/dist-packages (from huggingface-hub<1.0,>=0.34.0->transformers) (4.14.1)\n",
            "Requirement already satisfied: hf-xet<2.0.0,>=1.1.3 in /usr/local/lib/python3.12/dist-packages (from huggingface-hub<1.0,>=0.34.0->transformers) (1.1.7)\n",
            "Requirement already satisfied: charset-normalizer<4,>=2 in /usr/local/lib/python3.12/dist-packages (from requests->transformers) (3.4.3)\n",
            "Requirement already satisfied: idna<4,>=2.5 in /usr/local/lib/python3.12/dist-packages (from requests->transformers) (3.10)\n",
            "Requirement already satisfied: urllib3<3,>=1.21.1 in /usr/local/lib/python3.12/dist-packages (from requests->transformers) (2.5.0)\n",
            "Requirement already satisfied: certifi>=2017.4.17 in /usr/local/lib/python3.12/dist-packages (from requests->transformers) (2025.8.3)\n",
            "Requirement already satisfied: setuptools in /usr/local/lib/python3.12/dist-packages (from torch>=2.0.0->accelerate) (75.2.0)\n",
            "Requirement already satisfied: sympy>=1.13.3 in /usr/local/lib/python3.12/dist-packages (from torch>=2.0.0->accelerate) (1.13.3)\n",
            "Requirement already satisfied: networkx in /usr/local/lib/python3.12/dist-packages (from torch>=2.0.0->accelerate) (3.5)\n",
            "Requirement already satisfied: jinja2 in /usr/local/lib/python3.12/dist-packages (from torch>=2.0.0->accelerate) (3.1.6)\n",
            "Requirement already satisfied: nvidia-cuda-nvrtc-cu12==12.6.77 in /usr/local/lib/python3.12/dist-packages (from torch>=2.0.0->accelerate) (12.6.77)\n",
            "Requirement already satisfied: nvidia-cuda-runtime-cu12==12.6.77 in /usr/local/lib/python3.12/dist-packages (from torch>=2.0.0->accelerate) (12.6.77)\n",
            "Requirement already satisfied: nvidia-cuda-cupti-cu12==12.6.80 in /usr/local/lib/python3.12/dist-packages (from torch>=2.0.0->accelerate) (12.6.80)\n",
            "Requirement already satisfied: nvidia-cudnn-cu12==9.10.2.21 in /usr/local/lib/python3.12/dist-packages (from torch>=2.0.0->accelerate) (9.10.2.21)\n",
            "Requirement already satisfied: nvidia-cublas-cu12==12.6.4.1 in /usr/local/lib/python3.12/dist-packages (from torch>=2.0.0->accelerate) (12.6.4.1)\n",
            "Requirement already satisfied: nvidia-cufft-cu12==11.3.0.4 in /usr/local/lib/python3.12/dist-packages (from torch>=2.0.0->accelerate) (11.3.0.4)\n",
            "Requirement already satisfied: nvidia-curand-cu12==10.3.7.77 in /usr/local/lib/python3.12/dist-packages (from torch>=2.0.0->accelerate) (10.3.7.77)\n",
            "Requirement already satisfied: nvidia-cusolver-cu12==11.7.1.2 in /usr/local/lib/python3.12/dist-packages (from torch>=2.0.0->accelerate) (11.7.1.2)\n",
            "Requirement already satisfied: nvidia-cusparse-cu12==12.5.4.2 in /usr/local/lib/python3.12/dist-packages (from torch>=2.0.0->accelerate) (12.5.4.2)\n",
            "Requirement already satisfied: nvidia-cusparselt-cu12==0.7.1 in /usr/local/lib/python3.12/dist-packages (from torch>=2.0.0->accelerate) (0.7.1)\n",
            "Requirement already satisfied: nvidia-nccl-cu12==2.27.3 in /usr/local/lib/python3.12/dist-packages (from torch>=2.0.0->accelerate) (2.27.3)\n",
            "Requirement already satisfied: nvidia-nvtx-cu12==12.6.77 in /usr/local/lib/python3.12/dist-packages (from torch>=2.0.0->accelerate) (12.6.77)\n",
            "Requirement already satisfied: nvidia-nvjitlink-cu12==12.6.85 in /usr/local/lib/python3.12/dist-packages (from torch>=2.0.0->accelerate) (12.6.85)\n",
            "Requirement already satisfied: nvidia-cufile-cu12==1.11.1.6 in /usr/local/lib/python3.12/dist-packages (from torch>=2.0.0->accelerate) (1.11.1.6)\n",
            "Requirement already satisfied: triton==3.4.0 in /usr/local/lib/python3.12/dist-packages (from torch>=2.0.0->accelerate) (3.4.0)\n",
            "Requirement already satisfied: python-dateutil>=2.8.2 in /usr/local/lib/python3.12/dist-packages (from pandas->datasets) (2.9.0.post0)\n",
            "Requirement already satisfied: pytz>=2020.1 in /usr/local/lib/python3.12/dist-packages (from pandas->datasets) (2025.2)\n",
            "Requirement already satisfied: tzdata>=2022.7 in /usr/local/lib/python3.12/dist-packages (from pandas->datasets) (2025.2)\n",
            "Requirement already satisfied: aiohappyeyeballs>=2.5.0 in /usr/local/lib/python3.12/dist-packages (from aiohttp!=4.0.0a0,!=4.0.0a1->fsspec[http]<=2025.3.0,>=2023.1.0->datasets) (2.6.1)\n",
            "Requirement already satisfied: aiosignal>=1.4.0 in /usr/local/lib/python3.12/dist-packages (from aiohttp!=4.0.0a0,!=4.0.0a1->fsspec[http]<=2025.3.0,>=2023.1.0->datasets) (1.4.0)\n",
            "Requirement already satisfied: attrs>=17.3.0 in /usr/local/lib/python3.12/dist-packages (from aiohttp!=4.0.0a0,!=4.0.0a1->fsspec[http]<=2025.3.0,>=2023.1.0->datasets) (25.3.0)\n",
            "Requirement already satisfied: frozenlist>=1.1.1 in /usr/local/lib/python3.12/dist-packages (from aiohttp!=4.0.0a0,!=4.0.0a1->fsspec[http]<=2025.3.0,>=2023.1.0->datasets) (1.7.0)\n",
            "Requirement already satisfied: multidict<7.0,>=4.5 in /usr/local/lib/python3.12/dist-packages (from aiohttp!=4.0.0a0,!=4.0.0a1->fsspec[http]<=2025.3.0,>=2023.1.0->datasets) (6.6.4)\n",
            "Requirement already satisfied: propcache>=0.2.0 in /usr/local/lib/python3.12/dist-packages (from aiohttp!=4.0.0a0,!=4.0.0a1->fsspec[http]<=2025.3.0,>=2023.1.0->datasets) (0.3.2)\n",
            "Requirement already satisfied: yarl<2.0,>=1.17.0 in /usr/local/lib/python3.12/dist-packages (from aiohttp!=4.0.0a0,!=4.0.0a1->fsspec[http]<=2025.3.0,>=2023.1.0->datasets) (1.20.1)\n",
            "Requirement already satisfied: six>=1.5 in /usr/local/lib/python3.12/dist-packages (from python-dateutil>=2.8.2->pandas->datasets) (1.17.0)\n",
            "Requirement already satisfied: mpmath<1.4,>=1.1.0 in /usr/local/lib/python3.12/dist-packages (from sympy>=1.13.3->torch>=2.0.0->accelerate) (1.3.0)\n",
            "Requirement already satisfied: MarkupSafe>=2.0 in /usr/local/lib/python3.12/dist-packages (from jinja2->torch>=2.0.0->accelerate) (3.0.2)\n"
          ]
        }
      ]
    },
    {
      "cell_type": "code",
      "source": [
        "# Disable wandb\n",
        "import os\n",
        "os.environ[\"WANDB_MODE\"] = \"disabled\""
      ],
      "metadata": {
        "id": "h7qsurUoLxBm"
      },
      "id": "h7qsurUoLxBm",
      "execution_count": null,
      "outputs": []
    },
    {
      "cell_type": "code",
      "source": [
        "from transformers import AutoTokenizer, AutoModelForSequenceClassification\n",
        "from datasets import Dataset\n",
        "import pandas as pd\n",
        "\n",
        "# Example dataset\n",
        "train_df = pd.DataFrame({\n",
        "    \"clause\": [\n",
        "        \"This agreement limits user rights.\",\n",
        "        \"The company may terminate without notice.\",\n",
        "        \"This clause ensures both parties are protected.\",\n",
        "        \"The user can cancel at any time.\"\n",
        "    ],\n",
        "    \"label\": [1, 1, 0, 0]   # 1 = misleading, 0 = not misleading\n",
        "})\n",
        "\n",
        "# HuggingFace Dataset\n",
        "dataset = Dataset.from_pandas(train_df)\n",
        "\n",
        "# Load tokenizer & model\n",
        "model_name = \"bert-base-uncased\"\n",
        "tokenizer = AutoTokenizer.from_pretrained(model_name)"
      ],
      "metadata": {
        "id": "DTUBiE-NL7W4"
      },
      "id": "DTUBiE-NL7W4",
      "execution_count": null,
      "outputs": []
    },
    {
      "cell_type": "markdown",
      "source": [
        "### **Tokenize Data**"
      ],
      "metadata": {
        "id": "C2k9tHSPsepl"
      },
      "id": "C2k9tHSPsepl"
    },
    {
      "cell_type": "code",
      "source": [
        "if tokenizer.pad_token is None:\n",
        "    tokenizer.add_special_tokens({'pad_token': '[PAD]'})\n",
        "\n",
        "model = AutoModelForSequenceClassification.from_pretrained(model_name, num_labels=2)\n",
        "\n",
        "# Tokenization\n",
        "def tokenize(batch):\n",
        "    return tokenizer(\n",
        "        batch[\"clause\"],\n",
        "        padding=\"max_length\",\n",
        "        truncation=True,\n",
        "        max_length=256\n",
        "    )\n",
        "\n",
        "tokenized_data = dataset.map(tokenize, batched=True)\n",
        "\n",
        "# Rename labels properly\n",
        "tokenized_data = tokenized_data.rename_column(\"label\", \"labels\")\n",
        "tokenized_data.set_format(\"torch\", columns=[\"input_ids\", \"attention_mask\", \"labels\"])\n",
        "\n",
        "# Train/Test split\n",
        "train_test = tokenized_data.train_test_split(test_size=0.2)\n",
        "train_dataset = train_test[\"train\"]\n",
        "test_dataset = train_test[\"test\"]"
      ],
      "metadata": {
        "colab": {
          "base_uri": "https://localhost:8080/",
          "height": 104,
          "referenced_widgets": [
            "b471af98689d478ea9f1429b538aaca9",
            "b4ae3c57e46840399acdccb0ae6f174b",
            "508198506d0845ef922157aeb5e5f04b",
            "0222628641b84b4f87067752381a15be",
            "e5a6042620244bb9adfe7b56550b2e6a",
            "636e667ac57544be90ca195ff8076c1f",
            "0b89eacff3484a10a7f475ddf8d2ab40",
            "84305943104741e8a2612637d1315795",
            "f9dee92353524865bb65d6e9f011eaba",
            "f508574ce2a240cd986cfe9e81a9e5f6",
            "e72c0c62efa042f3890d2c9d88121b1c"
          ]
        },
        "id": "ka9S94RuL8Fl",
        "outputId": "cbb84036-f0ec-4d72-efee-08a438817d0e"
      },
      "id": "ka9S94RuL8Fl",
      "execution_count": null,
      "outputs": [
        {
          "output_type": "stream",
          "name": "stderr",
          "text": [
            "Some weights of BertForSequenceClassification were not initialized from the model checkpoint at bert-base-uncased and are newly initialized: ['classifier.bias', 'classifier.weight']\n",
            "You should probably TRAIN this model on a down-stream task to be able to use it for predictions and inference.\n"
          ]
        },
        {
          "output_type": "display_data",
          "data": {
            "text/plain": [
              "Map:   0%|          | 0/4 [00:00<?, ? examples/s]"
            ],
            "application/vnd.jupyter.widget-view+json": {
              "version_major": 2,
              "version_minor": 0,
              "model_id": "b471af98689d478ea9f1429b538aaca9"
            }
          },
          "metadata": {}
        }
      ]
    },
    {
      "cell_type": "markdown",
      "source": [
        "### **Split dataset into train aand test**"
      ],
      "metadata": {
        "id": "uW0hu2Sgsygs"
      },
      "id": "uW0hu2Sgsygs"
    },
    {
      "cell_type": "markdown",
      "source": [
        "### **Train the Model**"
      ],
      "metadata": {
        "id": "AcGtFl8ltD0V"
      },
      "id": "AcGtFl8ltD0V"
    },
    {
      "cell_type": "code",
      "source": [
        "from transformers import TrainingArguments, Trainer\n",
        "\n",
        "training_args = TrainingArguments(\n",
        "    output_dir=\"./results\",\n",
        "    save_strategy=\"epoch\",\n",
        "    learning_rate=2e-5,\n",
        "    per_device_train_batch_size=4,\n",
        "    per_device_eval_batch_size=4,\n",
        "    num_train_epochs=3,\n",
        "    weight_decay=0.01,\n",
        "    logging_dir=\"./logs\",\n",
        "    logging_steps=10,\n",
        "    fp16=True,\n",
        "    report_to=\"none\"\n",
        ")\n",
        "\n",
        "trainer = Trainer(\n",
        "    model=model,\n",
        "    args=training_args,\n",
        "    train_dataset=train_dataset,\n",
        "    eval_dataset=test_dataset,\n",
        "    tokenizer=tokenizer\n",
        ")\n",
        "\n",
        "trainer.train()\n"
      ],
      "metadata": {
        "colab": {
          "base_uri": "https://localhost:8080/",
          "height": 165
        },
        "id": "o4xCXPHvMG9G",
        "outputId": "ac8bf517-c609-440d-f1fe-f8455051db73"
      },
      "id": "o4xCXPHvMG9G",
      "execution_count": null,
      "outputs": [
        {
          "output_type": "stream",
          "name": "stderr",
          "text": [
            "/tmp/ipython-input-4100282021.py:17: FutureWarning: `tokenizer` is deprecated and will be removed in version 5.0.0 for `Trainer.__init__`. Use `processing_class` instead.\n",
            "  trainer = Trainer(\n"
          ]
        },
        {
          "output_type": "display_data",
          "data": {
            "text/plain": [
              "<IPython.core.display.HTML object>"
            ],
            "text/html": [
              "\n",
              "    <div>\n",
              "      \n",
              "      <progress value='3' max='3' style='width:300px; height:20px; vertical-align: middle;'></progress>\n",
              "      [3/3 01:15, Epoch 3/3]\n",
              "    </div>\n",
              "    <table border=\"1\" class=\"dataframe\">\n",
              "  <thead>\n",
              " <tr style=\"text-align: left;\">\n",
              "      <th>Step</th>\n",
              "      <th>Training Loss</th>\n",
              "    </tr>\n",
              "  </thead>\n",
              "  <tbody>\n",
              "  </tbody>\n",
              "</table><p>"
            ]
          },
          "metadata": {}
        },
        {
          "output_type": "execute_result",
          "data": {
            "text/plain": [
              "TrainOutput(global_step=3, training_loss=0.6181640625, metrics={'train_runtime': 75.8322, 'train_samples_per_second': 0.119, 'train_steps_per_second': 0.04, 'total_flos': 1183999749120.0, 'train_loss': 0.6181640625, 'epoch': 3.0})"
            ]
          },
          "metadata": {},
          "execution_count": 16
        }
      ]
    },
    {
      "cell_type": "markdown",
      "source": [
        "## **Save Model**"
      ],
      "metadata": {
        "id": "okkFGtaOtTx1"
      },
      "id": "okkFGtaOtTx1"
    },
    {
      "cell_type": "code",
      "source": [
        "# Save model and tokenizer\n",
        "trainer.save_model()  # Saves to ./gen_ai_model\n",
        "tokenizer.save_pretrained(\"./gen_ai_model\")\n"
      ],
      "metadata": {
        "colab": {
          "base_uri": "https://localhost:8080/"
        },
        "id": "k4YtfpyvQ-Je",
        "outputId": "2d1c3f04-57da-4615-d7c8-86e30e6400f5"
      },
      "id": "k4YtfpyvQ-Je",
      "execution_count": null,
      "outputs": [
        {
          "output_type": "execute_result",
          "data": {
            "text/plain": [
              "('./gen_ai_model/tokenizer_config.json',\n",
              " './gen_ai_model/special_tokens_map.json',\n",
              " './gen_ai_model/vocab.txt',\n",
              " './gen_ai_model/added_tokens.json',\n",
              " './gen_ai_model/tokenizer.json')"
            ]
          },
          "metadata": {},
          "execution_count": 17
        }
      ]
    },
    {
      "cell_type": "markdown",
      "source": [
        "## **Download into my local system**"
      ],
      "metadata": {
        "id": "W88HVrevtaNV"
      },
      "id": "W88HVrevtaNV"
    },
    {
      "cell_type": "code",
      "source": [
        "# Option 1: Download to local machine\n",
        "!zip -r gen_ai_model.zip ./gen_ai_model\n",
        "from google.colab import files\n",
        "files.download(\"gen_ai_model.zip\")"
      ],
      "metadata": {
        "colab": {
          "base_uri": "https://localhost:8080/",
          "height": 104
        },
        "id": "cqbQ6yKBRAw-",
        "outputId": "0a1e9fe7-ff21-443f-e945-1c83cc8cd199"
      },
      "id": "cqbQ6yKBRAw-",
      "execution_count": null,
      "outputs": [
        {
          "output_type": "stream",
          "name": "stdout",
          "text": [
            "  adding: gen_ai_model/ (stored 0%)\n",
            "  adding: gen_ai_model/tokenizer_config.json (deflated 75%)\n",
            "  adding: gen_ai_model/special_tokens_map.json (deflated 42%)\n",
            "  adding: gen_ai_model/vocab.txt (deflated 53%)\n",
            "  adding: gen_ai_model/tokenizer.json (deflated 71%)\n"
          ]
        },
        {
          "output_type": "display_data",
          "data": {
            "text/plain": [
              "<IPython.core.display.Javascript object>"
            ],
            "application/javascript": [
              "\n",
              "    async function download(id, filename, size) {\n",
              "      if (!google.colab.kernel.accessAllowed) {\n",
              "        return;\n",
              "      }\n",
              "      const div = document.createElement('div');\n",
              "      const label = document.createElement('label');\n",
              "      label.textContent = `Downloading \"${filename}\": `;\n",
              "      div.appendChild(label);\n",
              "      const progress = document.createElement('progress');\n",
              "      progress.max = size;\n",
              "      div.appendChild(progress);\n",
              "      document.body.appendChild(div);\n",
              "\n",
              "      const buffers = [];\n",
              "      let downloaded = 0;\n",
              "\n",
              "      const channel = await google.colab.kernel.comms.open(id);\n",
              "      // Send a message to notify the kernel that we're ready.\n",
              "      channel.send({})\n",
              "\n",
              "      for await (const message of channel.messages) {\n",
              "        // Send a message to notify the kernel that we're ready.\n",
              "        channel.send({})\n",
              "        if (message.buffers) {\n",
              "          for (const buffer of message.buffers) {\n",
              "            buffers.push(buffer);\n",
              "            downloaded += buffer.byteLength;\n",
              "            progress.value = downloaded;\n",
              "          }\n",
              "        }\n",
              "      }\n",
              "      const blob = new Blob(buffers, {type: 'application/binary'});\n",
              "      const a = document.createElement('a');\n",
              "      a.href = window.URL.createObjectURL(blob);\n",
              "      a.download = filename;\n",
              "      div.appendChild(a);\n",
              "      a.click();\n",
              "      div.remove();\n",
              "    }\n",
              "  "
            ]
          },
          "metadata": {}
        },
        {
          "output_type": "display_data",
          "data": {
            "text/plain": [
              "<IPython.core.display.Javascript object>"
            ],
            "application/javascript": [
              "download(\"download_a202b55e-0bf7-446a-a66c-c48865dd7cd7\", \"gen_ai_model.zip\", 320277)"
            ]
          },
          "metadata": {}
        }
      ]
    }
  ],
  "metadata": {
    "kernelspec": {
      "display_name": "Python 3",
      "name": "python3"
    },
    "language_info": {
      "codemirror_mode": {
        "name": "ipython",
        "version": 3
      },
      "file_extension": ".py",
      "mimetype": "text/x-python",
      "name": "python",
      "nbconvert_exporter": "python",
      "pygments_lexer": "ipython3",
      "version": "3.9.13"
    },
    "colab": {
      "provenance": [],
      "gpuType": "T4"
    },
    "accelerator": "GPU",
    "widgets": {
      "application/vnd.jupyter.widget-state+json": {
        "b471af98689d478ea9f1429b538aaca9": {
          "model_module": "@jupyter-widgets/controls",
          "model_name": "HBoxModel",
          "model_module_version": "1.5.0",
          "state": {
            "_dom_classes": [],
            "_model_module": "@jupyter-widgets/controls",
            "_model_module_version": "1.5.0",
            "_model_name": "HBoxModel",
            "_view_count": null,
            "_view_module": "@jupyter-widgets/controls",
            "_view_module_version": "1.5.0",
            "_view_name": "HBoxView",
            "box_style": "",
            "children": [
              "IPY_MODEL_b4ae3c57e46840399acdccb0ae6f174b",
              "IPY_MODEL_508198506d0845ef922157aeb5e5f04b",
              "IPY_MODEL_0222628641b84b4f87067752381a15be"
            ],
            "layout": "IPY_MODEL_e5a6042620244bb9adfe7b56550b2e6a"
          }
        },
        "b4ae3c57e46840399acdccb0ae6f174b": {
          "model_module": "@jupyter-widgets/controls",
          "model_name": "HTMLModel",
          "model_module_version": "1.5.0",
          "state": {
            "_dom_classes": [],
            "_model_module": "@jupyter-widgets/controls",
            "_model_module_version": "1.5.0",
            "_model_name": "HTMLModel",
            "_view_count": null,
            "_view_module": "@jupyter-widgets/controls",
            "_view_module_version": "1.5.0",
            "_view_name": "HTMLView",
            "description": "",
            "description_tooltip": null,
            "layout": "IPY_MODEL_636e667ac57544be90ca195ff8076c1f",
            "placeholder": "​",
            "style": "IPY_MODEL_0b89eacff3484a10a7f475ddf8d2ab40",
            "value": "Map: 100%"
          }
        },
        "508198506d0845ef922157aeb5e5f04b": {
          "model_module": "@jupyter-widgets/controls",
          "model_name": "FloatProgressModel",
          "model_module_version": "1.5.0",
          "state": {
            "_dom_classes": [],
            "_model_module": "@jupyter-widgets/controls",
            "_model_module_version": "1.5.0",
            "_model_name": "FloatProgressModel",
            "_view_count": null,
            "_view_module": "@jupyter-widgets/controls",
            "_view_module_version": "1.5.0",
            "_view_name": "ProgressView",
            "bar_style": "success",
            "description": "",
            "description_tooltip": null,
            "layout": "IPY_MODEL_84305943104741e8a2612637d1315795",
            "max": 4,
            "min": 0,
            "orientation": "horizontal",
            "style": "IPY_MODEL_f9dee92353524865bb65d6e9f011eaba",
            "value": 4
          }
        },
        "0222628641b84b4f87067752381a15be": {
          "model_module": "@jupyter-widgets/controls",
          "model_name": "HTMLModel",
          "model_module_version": "1.5.0",
          "state": {
            "_dom_classes": [],
            "_model_module": "@jupyter-widgets/controls",
            "_model_module_version": "1.5.0",
            "_model_name": "HTMLModel",
            "_view_count": null,
            "_view_module": "@jupyter-widgets/controls",
            "_view_module_version": "1.5.0",
            "_view_name": "HTMLView",
            "description": "",
            "description_tooltip": null,
            "layout": "IPY_MODEL_f508574ce2a240cd986cfe9e81a9e5f6",
            "placeholder": "​",
            "style": "IPY_MODEL_e72c0c62efa042f3890d2c9d88121b1c",
            "value": " 4/4 [00:00&lt;00:00, 120.61 examples/s]"
          }
        },
        "e5a6042620244bb9adfe7b56550b2e6a": {
          "model_module": "@jupyter-widgets/base",
          "model_name": "LayoutModel",
          "model_module_version": "1.2.0",
          "state": {
            "_model_module": "@jupyter-widgets/base",
            "_model_module_version": "1.2.0",
            "_model_name": "LayoutModel",
            "_view_count": null,
            "_view_module": "@jupyter-widgets/base",
            "_view_module_version": "1.2.0",
            "_view_name": "LayoutView",
            "align_content": null,
            "align_items": null,
            "align_self": null,
            "border": null,
            "bottom": null,
            "display": null,
            "flex": null,
            "flex_flow": null,
            "grid_area": null,
            "grid_auto_columns": null,
            "grid_auto_flow": null,
            "grid_auto_rows": null,
            "grid_column": null,
            "grid_gap": null,
            "grid_row": null,
            "grid_template_areas": null,
            "grid_template_columns": null,
            "grid_template_rows": null,
            "height": null,
            "justify_content": null,
            "justify_items": null,
            "left": null,
            "margin": null,
            "max_height": null,
            "max_width": null,
            "min_height": null,
            "min_width": null,
            "object_fit": null,
            "object_position": null,
            "order": null,
            "overflow": null,
            "overflow_x": null,
            "overflow_y": null,
            "padding": null,
            "right": null,
            "top": null,
            "visibility": null,
            "width": null
          }
        },
        "636e667ac57544be90ca195ff8076c1f": {
          "model_module": "@jupyter-widgets/base",
          "model_name": "LayoutModel",
          "model_module_version": "1.2.0",
          "state": {
            "_model_module": "@jupyter-widgets/base",
            "_model_module_version": "1.2.0",
            "_model_name": "LayoutModel",
            "_view_count": null,
            "_view_module": "@jupyter-widgets/base",
            "_view_module_version": "1.2.0",
            "_view_name": "LayoutView",
            "align_content": null,
            "align_items": null,
            "align_self": null,
            "border": null,
            "bottom": null,
            "display": null,
            "flex": null,
            "flex_flow": null,
            "grid_area": null,
            "grid_auto_columns": null,
            "grid_auto_flow": null,
            "grid_auto_rows": null,
            "grid_column": null,
            "grid_gap": null,
            "grid_row": null,
            "grid_template_areas": null,
            "grid_template_columns": null,
            "grid_template_rows": null,
            "height": null,
            "justify_content": null,
            "justify_items": null,
            "left": null,
            "margin": null,
            "max_height": null,
            "max_width": null,
            "min_height": null,
            "min_width": null,
            "object_fit": null,
            "object_position": null,
            "order": null,
            "overflow": null,
            "overflow_x": null,
            "overflow_y": null,
            "padding": null,
            "right": null,
            "top": null,
            "visibility": null,
            "width": null
          }
        },
        "0b89eacff3484a10a7f475ddf8d2ab40": {
          "model_module": "@jupyter-widgets/controls",
          "model_name": "DescriptionStyleModel",
          "model_module_version": "1.5.0",
          "state": {
            "_model_module": "@jupyter-widgets/controls",
            "_model_module_version": "1.5.0",
            "_model_name": "DescriptionStyleModel",
            "_view_count": null,
            "_view_module": "@jupyter-widgets/base",
            "_view_module_version": "1.2.0",
            "_view_name": "StyleView",
            "description_width": ""
          }
        },
        "84305943104741e8a2612637d1315795": {
          "model_module": "@jupyter-widgets/base",
          "model_name": "LayoutModel",
          "model_module_version": "1.2.0",
          "state": {
            "_model_module": "@jupyter-widgets/base",
            "_model_module_version": "1.2.0",
            "_model_name": "LayoutModel",
            "_view_count": null,
            "_view_module": "@jupyter-widgets/base",
            "_view_module_version": "1.2.0",
            "_view_name": "LayoutView",
            "align_content": null,
            "align_items": null,
            "align_self": null,
            "border": null,
            "bottom": null,
            "display": null,
            "flex": null,
            "flex_flow": null,
            "grid_area": null,
            "grid_auto_columns": null,
            "grid_auto_flow": null,
            "grid_auto_rows": null,
            "grid_column": null,
            "grid_gap": null,
            "grid_row": null,
            "grid_template_areas": null,
            "grid_template_columns": null,
            "grid_template_rows": null,
            "height": null,
            "justify_content": null,
            "justify_items": null,
            "left": null,
            "margin": null,
            "max_height": null,
            "max_width": null,
            "min_height": null,
            "min_width": null,
            "object_fit": null,
            "object_position": null,
            "order": null,
            "overflow": null,
            "overflow_x": null,
            "overflow_y": null,
            "padding": null,
            "right": null,
            "top": null,
            "visibility": null,
            "width": null
          }
        },
        "f9dee92353524865bb65d6e9f011eaba": {
          "model_module": "@jupyter-widgets/controls",
          "model_name": "ProgressStyleModel",
          "model_module_version": "1.5.0",
          "state": {
            "_model_module": "@jupyter-widgets/controls",
            "_model_module_version": "1.5.0",
            "_model_name": "ProgressStyleModel",
            "_view_count": null,
            "_view_module": "@jupyter-widgets/base",
            "_view_module_version": "1.2.0",
            "_view_name": "StyleView",
            "bar_color": null,
            "description_width": ""
          }
        },
        "f508574ce2a240cd986cfe9e81a9e5f6": {
          "model_module": "@jupyter-widgets/base",
          "model_name": "LayoutModel",
          "model_module_version": "1.2.0",
          "state": {
            "_model_module": "@jupyter-widgets/base",
            "_model_module_version": "1.2.0",
            "_model_name": "LayoutModel",
            "_view_count": null,
            "_view_module": "@jupyter-widgets/base",
            "_view_module_version": "1.2.0",
            "_view_name": "LayoutView",
            "align_content": null,
            "align_items": null,
            "align_self": null,
            "border": null,
            "bottom": null,
            "display": null,
            "flex": null,
            "flex_flow": null,
            "grid_area": null,
            "grid_auto_columns": null,
            "grid_auto_flow": null,
            "grid_auto_rows": null,
            "grid_column": null,
            "grid_gap": null,
            "grid_row": null,
            "grid_template_areas": null,
            "grid_template_columns": null,
            "grid_template_rows": null,
            "height": null,
            "justify_content": null,
            "justify_items": null,
            "left": null,
            "margin": null,
            "max_height": null,
            "max_width": null,
            "min_height": null,
            "min_width": null,
            "object_fit": null,
            "object_position": null,
            "order": null,
            "overflow": null,
            "overflow_x": null,
            "overflow_y": null,
            "padding": null,
            "right": null,
            "top": null,
            "visibility": null,
            "width": null
          }
        },
        "e72c0c62efa042f3890d2c9d88121b1c": {
          "model_module": "@jupyter-widgets/controls",
          "model_name": "DescriptionStyleModel",
          "model_module_version": "1.5.0",
          "state": {
            "_model_module": "@jupyter-widgets/controls",
            "_model_module_version": "1.5.0",
            "_model_name": "DescriptionStyleModel",
            "_view_count": null,
            "_view_module": "@jupyter-widgets/base",
            "_view_module_version": "1.2.0",
            "_view_name": "StyleView",
            "description_width": ""
          }
        }
      }
    }
  },
  "nbformat": 4,
  "nbformat_minor": 5
}